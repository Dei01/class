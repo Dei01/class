{
 "cells": [
  {
   "cell_type": "code",
   "execution_count": null,
   "id": "3b66a2bf-a916-44cb-9a68-c88492548ff0",
   "metadata": {},
   "outputs": [],
   "source": [
    "# Хоёр хэмжээст массивын элементэд хандах"
   ]
  },
  {
   "cell_type": "code",
   "execution_count": 1,
   "id": "7332ec93-cf85-46dd-a491-24690d8a7df7",
   "metadata": {},
   "outputs": [
    {
     "name": "stdout",
     "output_type": "stream",
     "text": [
      "2\n"
     ]
    }
   ],
   "source": [
    "import numpy as np\n",
    "arr = np.array([[1,2,3,4,5], [6,7,8,9,10]])\n",
    "print(arr[0, 1])\n"
   ]
  },
  {
   "cell_type": "code",
   "execution_count": null,
   "id": "98728c1f-a375-48d4-aa7f-4711a191e3ef",
   "metadata": {},
   "outputs": [],
   "source": [
    "# Хоёр хэмжээст массивын элементэд хандах"
   ]
  },
  {
   "cell_type": "code",
   "execution_count": null,
   "id": "e3ced1f4-3871-47ad-a9b4-f7cf2910bdfa",
   "metadata": {},
   "outputs": [],
   "source": [
    "# Хоёр хэмжээст массивын элементэд хандах"
   ]
  }
 ],
 "metadata": {
  "kernelspec": {
   "display_name": "Python 3 (ipykernel)",
   "language": "python",
   "name": "python3"
  },
  "language_info": {
   "codemirror_mode": {
    "name": "ipython",
    "version": 3
   },
   "file_extension": ".py",
   "mimetype": "text/x-python",
   "name": "python",
   "nbconvert_exporter": "python",
   "pygments_lexer": "ipython3",
   "version": "3.9.13"
  }
 },
 "nbformat": 4,
 "nbformat_minor": 5
}
