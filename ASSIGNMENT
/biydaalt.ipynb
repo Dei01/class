{
 "cells": [
  {
   "cell_type": "markdown",
   "metadata": {},
   "source": [
    "БОДЛОГУУД:"
   ]
  },
  {
   "cell_type": "markdown",
   "metadata": {},
   "source": [
    "1. Гурвалжны 3 тал өгөгдсөн бол (гурвалжны тал болох эсэх нөхцлийг шалгаж) гурвалжны талбай ба периметрийг олох программ зохио."
   ]
  },
  {
   "cell_type": "code",
   "execution_count": null,
   "metadata": {},
   "outputs": [],
   "source": [
    "print('# 1. Гурвалжны 3 тал өгөгдсөн бол (гурвалжны тал болох эсэх нөхцлийг шалгаж) гурвалжны талбай ба периметрийг олох программ зохио.')\n",
    "# method 1\n",
    "inputString = input('Зай аваад 3-н тоо оруулах: ')<br>\n",
    "list = inputString.split()<br>\n",
    "sum = 0 <br>\n",
    "for num in list:<br>\n",
    "    sum+= int(num)<br>\n",
    "print(f'периметр = {sum}\\n')<br>\n",
    "print(f'талбай = {sum/2}\\n')"
   ]
  },
  {
   "cell_type": "markdown",
   "metadata": {},
   "source": [
    "# method 2 (FIXED) "
   ]
  },
  {
   "cell_type": "markdown",
   "metadata": {},
   "source": [
    "a,b,c = 1,2,3<br>\n",
    "result = a + b + c<br>\n",
    "print(result)"
   ]
  },
  {
   "cell_type": "code",
   "execution_count": null,
   "metadata": {},
   "outputs": [],
   "source": [
    "2. 100-аас бага тэгш тоонуудыг do оператор ашиглан хэвлэх программ зохио."
   ]
  },
  {
   "cell_type": "code",
   "execution_count": null,
   "metadata": {},
   "outputs": [],
   "source": [
    "print('# 2. 100-аас бага тэгш тоонуудыг do оператор ашиглан хэвлэх программ зохио.')"
   ]
  },
  {
   "cell_type": "markdown",
   "metadata": {},
   "source": [
    "# Python program to print Even Numbers in given range<br>\n",
    "start, end = 1, 100<br>\n",
    "# iterating each number in list<br>\n",
    "for num in range(100):"
   ]
  },
  {
   "cell_type": "code",
   "execution_count": null,
   "metadata": {},
   "outputs": [],
   "source": [
    "      \n",
    "#     # checking condition\n",
    "#     if num % 2 == 0:\n",
    "#         print(num, end = \"\")\n",
    "        \n",
    "# print('\\n')"
   ]
  },
  {
   "cell_type": "markdown",
   "metadata": {},
   "source": [
    "# 3. Дурын n тоон цувааны үржвэрийг while оператор ашиглан хэвлэх программ зохио.<br>\n",
    "print('# 3. Дурын n тоон цувааны үржвэрийг while оператор ашиглан хэвлэх программ зохио.')"
   ]
  },
  {
   "cell_type": "code",
   "execution_count": null,
   "metadata": {},
   "outputs": [],
   "source": [
    "x = int(input('Enter random number for loop: '))\n",
    "i = 1\n",
    "while i < x:\n",
    "  print(i,end = \" \")\n",
    "  i += 1"
   ]
  },
  {
   "cell_type": "markdown",
   "metadata": {},
   "source": [
    "# 4. For давталт ашиглан 1-ээс n хүртэлх тоог 3 алхамтайгаар өсөхөөр хэвлэх программ зохио.<br>\n",
    "print('# 4. For давталт ашиглан 1-ээс n хүртэлх тоог 3 алхамтайгаар өсөхөөр хэвлэх программ зохио.')"
   ]
  },
  {
   "cell_type": "markdown",
   "metadata": {},
   "source": [
    "i = 0<br>\n",
    "for i in range(3):<br>\n",
    "    i+=1<br>\n",
    "    print(i)"
   ]
  },
  {
   "cell_type": "markdown",
   "metadata": {},
   "source": [
    "# 5. For давталт ашиглан 1-ээс 10 хүртэлх тоонуудын нийлбэрийг хэвлэх программ зохио.<br>\n",
    "print('# 5. For давталт ашиглан 1-ээс 10 хүртэлх тоонуудын нийлбэрийг хэвлэх программ зохио.')"
   ]
  },
  {
   "cell_type": "markdown",
   "metadata": {},
   "source": [
    "# x = 0<br>\n",
    "# for x in range(1,10):<br>\n",
    "for i in range(0, 10, 2):<br>\n",
    "    print(i, end=\" \")<br>\n",
    "print()"
   ]
  },
  {
   "cell_type": "markdown",
   "metadata": {},
   "source": [
    "# 6. Өгсөн а тооны n хүртэлх зэргүүдийг хэвлэх программ зохио.<br>\n",
    "print('# 6. Өгсөн а тооны n хүртэлх зэргүүдийг хэвлэх программ зохио.')"
   ]
  },
  {
   "cell_type": "markdown",
   "metadata": {},
   "source": [
    "n = int(input('Тоо:ро'))"
   ]
  },
  {
   "cell_type": "markdown",
   "metadata": {},
   "source": [
    "# 7. 100-аас бага 3 –д хуваагдах тоонуудыг буурахаар хэвлэх программ зохио.<br>\n",
    "print('# 7. 100-аас бага 3 –д хуваагдах тоонуудыг буурахаар хэвлэх программ зохио.')"
   ]
  },
  {
   "cell_type": "markdown",
   "metadata": {},
   "source": [
    "x = 100<br>\n",
    "for i in x:<br>\n",
    "    if x3:<br>\n",
    "        print(i)"
   ]
  },
  {
   "cell_type": "markdown",
   "metadata": {},
   "source": [
    "# 8. Дурын тэмдэгт мөр хувьсагчийг (жнь: hello) n удаа дараалан болон шинэ мөрөнд хэвлэх программ зохио.<br>\n",
    "print('# 8. Дурын тэмдэгт мөр хувьсагчийг (жнь: hello) n удаа дараалан болон шинэ мөрөнд хэвлэх программ зохио.')"
   ]
  },
  {
   "cell_type": "markdown",
   "metadata": {},
   "source": [
    "# 9. 1-ээс n хүртэлх сондгой тоонуудын нийлбэрийг олох программ зохио.<br>\n",
    "print('# 9. 1-ээс n хүртэлх сондгой тоонуудын нийлбэрийг олох программ зохио.')"
   ]
  },
  {
   "cell_type": "markdown",
   "metadata": {},
   "source": [
    "# 10. Өгсөн m тооны квадрат болон куб зэргүүдийг хэвлэх программ зохио.<br>\n",
    "print('# 10. Өгсөн m тооны квадрат болон куб зэргүүдийг хэвлэх программ зохио.')"
   ]
  },
  {
   "cell_type": "markdown",
   "metadata": {},
   "source": [
    "# 11. 2-оос 100 хүртэлх бүх тэгш тоог for ашиглан хэвлэх программ зохио.<br>\n",
    "print('# 11. 2-оос 100 хүртэлх бүх тэгш тоог for ашиглан хэвлэх программ зохио.')"
   ]
  },
  {
   "cell_type": "markdown",
   "metadata": {},
   "source": [
    "start, end = 1, 100<br>\n",
    "  # iterating each number in list<br>\n",
    "for num in range(start, end + 1):"
   ]
  },
  {
   "cell_type": "code",
   "execution_count": null,
   "metadata": {},
   "outputs": [],
   "source": [
    "      \n",
    "#     # checking condition\n",
    "#     if num % 2 == 0:\n",
    "#         print(num, end = \" \")\n",
    "# print('\\n')"
   ]
  },
  {
   "cell_type": "markdown",
   "metadata": {},
   "source": [
    "# 12. Өгсөн m тооны хүрдийг хэвлэх программ зохио.<br>\n",
    "print('# 12. Өгсөн m тооны хүрдийг хэвлэх программ зохио.')"
   ]
  },
  {
   "cell_type": "markdown",
   "metadata": {},
   "source": [
    "hurd = int(input(''))"
   ]
  },
  {
   "cell_type": "markdown",
   "metadata": {},
   "source": [
    "# 13. 1-ээс 100 хүртэлх бүх сондгой тоог while ашиглан хэвлэх программ зохио.<br>\n",
    "print('# 13. 1-ээс 100 хүртэлх бүх сондгой тоог while ашиглан хэвлэх программ зохио.')"
   ]
  },
  {
   "cell_type": "markdown",
   "metadata": {},
   "source": [
    "maximum = int(input(\" сондгой тоонууд хэвлэх : \"))<br>\n",
    "number = 1<br>\n",
    "while number <= maximum:<br>\n",
    "    if(number % 3 != 0):<br>\n",
    "        print(number, end=\"\")"
   ]
  },
  {
   "cell_type": "markdown",
   "metadata": {},
   "source": [
    "# 14. Өгсөн n бүхэл тооны факториалыг олох программ зохио.<br>\n",
    "print('# 14. Өгсөн n бүхэл тооны факториалыг олох программ зохио.')"
   ]
  },
  {
   "cell_type": "markdown",
   "metadata": {},
   "source": [
    "def factorial(n):<br>\n",
    "    res = 1<br>\n",
    "    for i in range(2, n+1):<br>\n",
    "        res *= i<br>\n",
    "    return res<br>\n",
    " # Driver Code<br>\n",
    "num = 5;<br>\n",
    "print(\"Factorial of\", num, \"is\",<br>\n",
    "factorial(num))"
   ]
  },
  {
   "cell_type": "markdown",
   "metadata": {},
   "source": [
    "# 15. Өгсөн n тоо хүртэлх сондгой тоонуудын факториалуудын нийлбэрийг олох программ зохио.<br>\n",
    "print('# 15. Өгсөн n тоо хүртэлх сондгой тоонуудын факториалуудын нийлбэрийг олох программ зохио.')      "
   ]
  },
  {
   "cell_type": "code",
   "execution_count": null,
   "metadata": {},
   "outputs": [],
   "source": [
    "      "
   ]
  },
  {
   "cell_type": "markdown",
   "metadata": {},
   "source": [
    "# 16. [50, 100] завсарт орших 7-д хуваагддаг тоонуудын цифрүүдийн нийлбэрийг олох программ зохио.<br>\n",
    "print('# 16. [50, 100] завсарт орших 7-д хуваагддаг тоонуудын цифрүүдийн нийлбэрийг олох программ зохио.')"
   ]
  },
  {
   "cell_type": "markdown",
   "metadata": {},
   "source": [
    "# enter the starting range number<br>\n",
    "start_num = int(50)  <br>\n",
    "# enter the ending range number<br>\n",
    "end_num = int(100)<br>\n",
    "# initialise counter with starting number<br>\n",
    "cnt = start_num<br>\n",
    "# check until end of the range is achieved<br>\n",
    "while cnt <= end_num: <br>\n",
    "    # if number divisible by 7 and 5<br>\n",
    "    if cnt % 7 == 0 :<br>\n",
    "        print(cnt, \" нь 7-д хуваагддаг.\")     <br>\n",
    "    # increment counter<br>\n",
    "    cnt += 1"
   ]
  },
  {
   "cell_type": "markdown",
   "metadata": {},
   "source": [
    "# 17. Тоог урдаас нь хойш, хойноос урагш бичихэд тэнцүү байх тоог хөрвөсөн тоо буюу “палиндром тоо” гэдэг. [100, 150] завсарт байх палиндром тоонуудыг хэвлэх программ зохио.<br>\n",
    "print('# 17. Тоог урдаас нь хойш, хойноос урагш бичихэд тэнцүү байх тоог хөрвөсөн тоо буюу “палиндром тоо” гэдэг. [100, 150] завсарт байх палиндром тоонуудыг хэвлэх программ зохио.')"
   ]
  },
  {
   "cell_type": "markdown",
   "metadata": {},
   "source": [
    "# 18. [100, 200] завсарт орших тоонуудаас 25-д хуваагдах тоонуудын хөрвөсөн тоог хэвлэх программ зохио.<br>\n",
    "print('# 18. [100, 200] завсарт орших тоонуудаас 25-д хуваагдах тоонуудын хөрвөсөн тоог хэвлэх программ зохио.')"
   ]
  },
  {
   "cell_type": "markdown",
   "metadata": {},
   "source": [
    "# 19. N бүхэл тоо өгөгджээ. 1-ээс N хүртэлх тэгш тоонуудыг өөрөөс нь 2 дахин бага тоон зэрэгт дэвшүүлж гарсан утгуудын нийлбэрийг олох программ зохио.<br>\n",
    "print('# 19. N бүхэл тоо өгөгджээ. 1-ээс N хүртэлх тэгш тоонуудыг өөрөөс нь 2 дахин бага тоон зэрэгт дэвшүүлж гарсан утгуудын нийлбэрийг олох программ зохио.')"
   ]
  },
  {
   "cell_type": "markdown",
   "metadata": {},
   "source": [
    "# 20. 1100110 ба 10101 тоонууд хооронд логик and, or, xor үйлдлүүд хийж зөв # хариуг 10 ба 2-тын тоогоор харуул;<br>\n",
    "print('# 20. 1100110 ба 10101 тоонууд хооронд логик and, or, xor үйлдлүүд хийж зөв хариуг 10 ба 2-тын тоогоор харуул;')"
   ]
  },
  {
   "cell_type": "markdown",
   "metadata": {},
   "source": [
    "# 21. 16 суурьтай системд өгсөн тоог 10 суурьтай тооллын системд хөрвүүлэх.<br>\n",
    "print('# 21. 16 суурьтай системд өгсөн тоог 10 суурьтай тооллын системд хөрвүүлэх.')"
   ]
  },
  {
   "cell_type": "markdown",
   "metadata": {},
   "source": [
    "# 22. N бүхэл тоо өгөгджээ. 1-ээс N хүртэлх бүх сондгой тоогоос квадрат язгуурыг # бодож, гарсан утгуудын нийлбэрийг олох программ зохио.<br>\n",
    "print('# 22. N бүхэл тоо өгөгджээ. 1-ээс N хүртэлх бүх сондгой тоогоос квадрат язгуурыг бодож, гарсан утгуудын нийлбэрийг олох программ зохио.')"
   ]
  },
  {
   "cell_type": "markdown",
   "metadata": {},
   "source": [
    "# 23. 1100110 ба 10101 тоонууд хооронд нэмэх, хасах, үржих үйлдлүүд хийж зөв хариуг 10 ба 2-тын тоогоор харуул."
   ]
  },
  {
   "cell_type": "markdown",
   "metadata": {},
   "source": [
    "pirnt('# 23. 1100110 ба 10101 тоонууд хооронд нэмэх, хасах, үржих үйлдлүүд хийж зөв хариуг 10 ба 2-тын тоогоор харуул.')<br>\n",
    "# 24. Өгсөн а тоог анхны тоо эсэхийг шалгах программ зохио.<br>\n",
    "print('# 24. Өгсөн а тоог анхны тоо эсэхийг шалгах программ зохио.')"
   ]
  },
  {
   "cell_type": "markdown",
   "metadata": {},
   "source": [
    "# 25. [a, b] завсар дахь хөрвөсөн тооноосоо их байх тоонуудыг хэвлэ.<br>\n",
    "print('# 25. [a, b] завсар дахь хөрвөсөн тооноосоо их байх тоонуудыг хэвлэ.')"
   ]
  },
  {
   "cell_type": "markdown",
   "metadata": {},
   "source": [
    "# 26. Өгсөн n хүртэлх тоонуудын факториалуудын нийлбэрийг олох программ зохио.<br>\n",
    "print('# 26. Өгсөн n хүртэлх тоонуудын факториалуудын нийлбэрийг олох программ зохио.')"
   ]
  },
  {
   "cell_type": "markdown",
   "metadata": {},
   "source": [
    "# 27. Өөрийнхөө цифрүүдийн нийлбэрт хуваагддаг 3 оронтой тоог “сайн тоо”гэдэг. Бүх сайн тоог хэвлэ. Мөн хэд байгааг тоолох программ зохио.<br>\n",
    "prnit('# 27. Өөрийнхөө цифрүүдийн нийлбэрт хуваагддаг 3 оронтой тоог “сайн тоо”гэдэг. Бүх сайн тоог хэвлэ. Мөн хэд байгааг тоолох программ зохио.')"
   ]
  },
  {
   "cell_type": "markdown",
   "metadata": {},
   "source": [
    "# 28. Фибоначчийн эхний к ширхэг гишүүнийг хэвлэ (Фибоначчийн тоо нь дараах дарааллаас бүрдэнэ: 0, 1, 1, 2, 3, 5, 8, 13, 21, 34, 55, 89, 144, .... Тодорхойлолт ёсоор бол Фибоначчийн тооны эхний 2 тоо нь 0 болон 1 гэж өгөгдсөн ба түүнээс хойшхи Фибоначчийн тоонууд нь өмнөх 2 тооныхоо нийлбэртэй тэнцүү болно).<br>\n",
    "print('28. Фибоначчийн эхний к ширхэг гишүүнийг хэвлэ (Фибоначчийн тоо нь дараах дарааллаас бүрдэнэ: 0, 1, 1, 2, 3, 5, 8, 13, 21, 34, 55, 89, 144, .... Тодорхойлолт ёсоор бол Фибоначчийн тооны эхний 2 тоо нь 0 болон 1 гэж өгөгдсөн ба түүнээс хойшхи Фибоначчийн тоонууд нь өмнөх 2 тооныхоо нийлбэртэй тэнцүү болно).')<br>\n",
    "# 29. 2 суурьтай системд өгсөн тоог 10 суурьтай тооллын системд хөрвүүл.<br>\n",
    "print('# 29. 2 суурьтай системд өгсөн тоог 10 суурьтай тооллын системд хөрвүүл.')"
   ]
  },
  {
   "cell_type": "markdown",
   "metadata": {},
   "source": [
    "# 30. 4 оронтой бүх палиндром тоог хэвлэж, нийт хэдэн тоо байгааг тоол.<br>\n",
    "print('# 30. 4 оронтой бүх палиндром тоог хэвлэж, нийт хэдэн тоо байгааг тоол.')"
   ]
  }
 ],
 "metadata": {
  "kernelspec": {
   "display_name": "Python 3 (ipykernel)",
   "language": "python",
   "name": "python3"
  },
  "language_info": {
   "codemirror_mode": {
    "name": "ipython",
    "version": 3
   },
   "file_extension": ".py",
   "mimetype": "text/x-python",
   "name": "python",
   "nbconvert_exporter": "python",
   "pygments_lexer": "ipython3",
   "version": "3.9.13"
  }
 },
 "nbformat": 4,
 "nbformat_minor": 4
}
