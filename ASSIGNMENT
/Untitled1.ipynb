{
 "cells": [
  {
   "cell_type": "code",
   "execution_count": 4,
   "id": "569f071a-84e3-4e40-9319-ab40590ec33f",
   "metadata": {},
   "outputs": [],
   "source": [
    "# БОДЛОГУУД:"
   ]
  },
  {
   "cell_type": "code",
   "execution_count": 5,
   "id": "ec4233be-61ab-4af3-ab7e-269e6e7f1a13",
   "metadata": {},
   "outputs": [],
   "source": [
    "# 1. Гурвалжны 3 тал өгөгдсөн бол (гурвалжны тал болох эсэх нөхцлийг шалгаж) гурвалжны талбай ба периметрийг олох программ зохио."
   ]
  },
  {
   "cell_type": "code",
   "execution_count": 17,
   "id": "efab4a5e-e282-414e-a127-5fa18672f8ce",
   "metadata": {},
   "outputs": [
    {
     "name": "stdin",
     "output_type": "stream",
     "text": [
      "Зай аваад 3-н тоо оруулах:  3 9 0\n"
     ]
    },
    {
     "name": "stdout",
     "output_type": "stream",
     "text": [
      "периметр = 12\n",
      "\n",
      "талбай = 6.0\n",
      "\n",
      "6\n"
     ]
    }
   ],
   "source": [
    "# method 1\n",
    "inputString = input('Зай аваад 3-н тоо оруулах: ')\n",
    "list = inputString.split()\n",
    "sum = 0 \n",
    "for num in list:\n",
    "    sum+= int(num)\n",
    "print(f'периметр = {sum}\\n')\n",
    "print(f'талбай = {sum/2}\\n')\n",
    "\n",
    "# method 2 (FIXED) \n",
    "\n",
    "a,b,c = 1,2,3\n",
    "result = a + b + c\n",
    "print(result)"
   ]
  },
  {
   "cell_type": "code",
   "execution_count": 7,
   "id": "a04e45f3-25d0-414a-b3de-2d0df70fd16e",
   "metadata": {},
   "outputs": [],
   "source": [
    "# 2. 100-аас бага тэгш тоонуудыг do оператор ашиглан хэвлэх программ зохио."
   ]
  },
  {
   "cell_type": "code",
   "execution_count": 8,
   "id": "49a41136-a1e2-4c70-9794-bf89dfadcace",
   "metadata": {},
   "outputs": [
    {
     "name": "stdout",
     "output_type": "stream",
     "text": [
      "02468101214161820222426283032343638404244464850525456586062646668707274767880828486889092949698\n",
      "\n"
     ]
    }
   ],
   "source": [
    "start, end = 1, 100\n",
    "for num in range(100):\n",
    "    if num % 2 == 0:\n",
    "        print(num, end = \"\")\n",
    "print('\\n')"
   ]
  },
  {
   "cell_type": "code",
   "execution_count": 9,
   "id": "542ae433-137c-4108-867a-26585e4d7e8e",
   "metadata": {},
   "outputs": [],
   "source": [
    "# 3. Дурын n тоон цувааны үржвэрийг while оператор ашиглан хэвлэх программ зохио."
   ]
  },
  {
   "cell_type": "code",
   "execution_count": 10,
   "id": "0a2c5a8e-555f-4471-b070-6d1c6edcd3de",
   "metadata": {},
   "outputs": [
    {
     "name": "stdin",
     "output_type": "stream",
     "text": [
      "Enter random number for loop:  100\n"
     ]
    },
    {
     "name": "stdout",
     "output_type": "stream",
     "text": [
      "1 2 3 4 5 6 7 8 9 10 11 12 13 14 15 16 17 18 19 20 21 22 23 24 25 26 27 28 29 30 31 32 33 34 35 36 37 38 39 40 41 42 43 44 45 46 47 48 49 50 51 52 53 54 55 56 57 58 59 60 61 62 63 64 65 66 67 68 69 70 71 72 73 74 75 76 77 78 79 80 81 82 83 84 85 86 87 88 89 90 91 92 93 94 95 96 97 98 99 "
     ]
    }
   ],
   "source": [
    "x = int(input('Enter random number for loop: '))\n",
    "i = 1\n",
    "while i < x:\n",
    "  print(i,end = \" \")\n",
    "  i += 1"
   ]
  },
  {
   "cell_type": "code",
   "execution_count": null,
   "id": "089b3273-022b-4286-829f-086bc49f1f19",
   "metadata": {},
   "outputs": [],
   "source": [
    "# 4. For давталт ашиглан 1-ээс n хүртэлх тоог 3 алхамтайгаар өсөхөөр хэвлэх программ зохио."
   ]
  },
  {
   "cell_type": "code",
   "execution_count": null,
   "id": "d2f43b25-cd52-4237-b360-3fc6851317db",
   "metadata": {},
   "outputs": [],
   "source": [
    "i = 0\n",
    "for i in range(3):\n",
    "    i+=1\n",
    "    print(i)\n"
   ]
  },
  {
   "cell_type": "code",
   "execution_count": null,
   "id": "56b218b1-d575-4e09-953f-c671656df4b7",
   "metadata": {},
   "outputs": [],
   "source": [
    "# 5. For давталт ашиглан 1-ээс 10 хүртэлх тоонуудын нийлбэрийг хэвлэх программ зохио."
   ]
  },
  {
   "cell_type": "code",
   "execution_count": null,
   "id": "d9b14e56-9fee-4c38-88fe-dc856e78280e",
   "metadata": {},
   "outputs": [],
   "source": [
    "x = 0\n",
    "for x in range(1,10):\n",
    "for i in range(0, 10, 2):\n",
    "    print(i, end=\" \")\n",
    "print()\n",
    "\n"
   ]
  },
  {
   "cell_type": "code",
   "execution_count": null,
   "id": "f94f2988-7b98-48a4-b46a-3109b14be5fa",
   "metadata": {},
   "outputs": [],
   "source": [
    "# 6. Өгсөн а тооны n хүртэлх зэргүүдийг хэвлэх программ зохио."
   ]
  },
  {
   "cell_type": "code",
   "execution_count": null,
   "id": "83b0be39-9642-4939-a4af-45b10638a8c2",
   "metadata": {},
   "outputs": [],
   "source": []
  },
  {
   "cell_type": "code",
   "execution_count": null,
   "id": "80efb5c1-47c6-4b18-9686-59795f1ae9aa",
   "metadata": {},
   "outputs": [],
   "source": [
    "#7. 100-аас бага 3 –д хуваагдах тоонуудыг буурахаар хэвлэх программ зохио."
   ]
  },
  {
   "cell_type": "code",
   "execution_count": 15,
   "id": "de39baee-4881-4cb2-a9cb-e2b41b00cd4e",
   "metadata": {},
   "outputs": [
    {
     "name": "stdout",
     "output_type": "stream",
     "text": [
      "3 6 9 12 15 18 21 24 27 30 33 36 39 42 45 48 51 54 57 60 63 66 69 72 75 78 81 84 87 90 93 96 99 \n",
      "\n"
     ]
    }
   ],
   "source": [
    "start, end = 1, 100\n",
    "for num in range(start, end + 1):      \n",
    "    if num % 3 == 0:\n",
    "        print(num, end = \" \")\n",
    "print('\\n')"
   ]
  },
  {
   "cell_type": "code",
   "execution_count": null,
   "id": "d3f50258-12d1-456d-9a6f-8b557dd2b589",
   "metadata": {},
   "outputs": [],
   "source": [
    "# # 8. Дурын тэмдэгт мөр хувьсагчийг (жнь: hello) n удаа дараалан болон шинэ мөрөнд хэвлэх программ зохио."
   ]
  },
  {
   "cell_type": "code",
   "execution_count": null,
   "id": "b5848ab5-27de-408b-9afc-edb45cff4e45",
   "metadata": {},
   "outputs": [],
   "source": []
  },
  {
   "cell_type": "code",
   "execution_count": null,
   "id": "3ca1d615-774e-4390-98a4-455b4a3bf121",
   "metadata": {},
   "outputs": [],
   "source": [
    "# # 9. 1-ээс n хүртэлх сондгой тоонуудын нийлбэрийг олох программ зохио."
   ]
  },
  {
   "cell_type": "code",
   "execution_count": null,
   "id": "7534c9f6-83de-40dc-8a70-f4350f7717c1",
   "metadata": {},
   "outputs": [],
   "source": []
  },
  {
   "cell_type": "code",
   "execution_count": null,
   "id": "8221acbc-210a-4535-973c-5a96c860598e",
   "metadata": {},
   "outputs": [],
   "source": [
    "# # 10. Өгсөн m тооны квадрат болон куб зэргүүдийг хэвлэх программ зохио."
   ]
  },
  {
   "cell_type": "code",
   "execution_count": null,
   "id": "d7c7f4f1-3505-404d-bb13-55924b9ccc0e",
   "metadata": {},
   "outputs": [],
   "source": []
  },
  {
   "cell_type": "code",
   "execution_count": null,
   "id": "ff039599-f65f-43d6-bfb8-0157a65bcaeb",
   "metadata": {},
   "outputs": [],
   "source": [
    "# # 11. 2-оос 100 хүртэлх бүх тэгш тоог for ашиглан хэвлэх программ зохио."
   ]
  },
  {
   "cell_type": "code",
   "execution_count": 11,
   "id": "2ce746b0-ea61-4796-948a-2cc0f94b895b",
   "metadata": {},
   "outputs": [
    {
     "name": "stdout",
     "output_type": "stream",
     "text": [
      "2 4 6 8 10 12 14 16 18 20 22 24 26 28 30 32 34 36 38 40 42 44 46 48 50 52 54 56 58 60 62 64 66 68 70 72 74 76 78 80 82 84 86 88 90 92 94 96 98 100 \n",
      "\n"
     ]
    }
   ],
   "source": [
    "start, end = 1, 100\n",
    "  # iterating each number in list\n",
    "for num in range(start, end + 1):\n",
    "      \n",
    "    # checking condition\n",
    "    if num % 2 == 0:\n",
    "        print(num, end = \" \")\n",
    "print('\\n')"
   ]
  },
  {
   "cell_type": "code",
   "execution_count": null,
   "id": "b3b9c8e3-e835-41f2-905e-a6d78a7ae254",
   "metadata": {},
   "outputs": [],
   "source": [
    "# # 12. Өгсөн m тооны хүрдийг хэвлэх программ зохио."
   ]
  },
  {
   "cell_type": "code",
   "execution_count": null,
   "id": "d886e348-422a-459e-95d7-aa45d8bb433b",
   "metadata": {},
   "outputs": [],
   "source": []
  },
  {
   "cell_type": "code",
   "execution_count": null,
   "id": "c7c91dc9-450b-4949-93d1-6d45c42cb6bf",
   "metadata": {},
   "outputs": [],
   "source": [
    "# # 13. 1-ээс 100 хүртэлх бүх сондгой тоог while ашиглан хэвлэх программ зохио."
   ]
  },
  {
   "cell_type": "code",
   "execution_count": null,
   "id": "4d92eaf5-1f4c-48fd-8484-2c6dd8907826",
   "metadata": {},
   "outputs": [],
   "source": []
  },
  {
   "cell_type": "code",
   "execution_count": null,
   "id": "24342153-4e63-42e5-adcc-c9a012a0fb32",
   "metadata": {},
   "outputs": [],
   "source": [
    "# # 14. Өгсөн n бүхэл тооны факториалыг олох программ зохио."
   ]
  },
  {
   "cell_type": "code",
   "execution_count": null,
   "id": "105f4b92-cecd-4ce5-b064-c73b5cbafb5a",
   "metadata": {},
   "outputs": [],
   "source": []
  },
  {
   "cell_type": "code",
   "execution_count": null,
   "id": "a6d3685c-f90a-4807-840e-684720dc3491",
   "metadata": {},
   "outputs": [],
   "source": [
    "# # 15. Өгсөн n тоо хүртэлх сондгой тоонуудын факториалуудын нийлбэрийг олох программ зохио."
   ]
  },
  {
   "cell_type": "code",
   "execution_count": null,
   "id": "d688c352-7950-4333-b705-29aead4f664f",
   "metadata": {},
   "outputs": [],
   "source": []
  },
  {
   "cell_type": "code",
   "execution_count": null,
   "id": "d320518c-0192-44fa-ad55-e40c541cbc8e",
   "metadata": {},
   "outputs": [],
   "source": [
    "# # 16. [50, 100] завсарт орших 7-д хуваагддаг тоонуудын цифрүүдийн нийлбэрийг олох программ зохио."
   ]
  },
  {
   "cell_type": "code",
   "execution_count": 16,
   "id": "21a34e11-d1ac-4bed-a6f4-c0b0d52484e7",
   "metadata": {},
   "outputs": [
    {
     "name": "stdout",
     "output_type": "stream",
     "text": [
      "56  нь 7-д хуваагддаг.\n",
      "63  нь 7-д хуваагддаг.\n",
      "70  нь 7-д хуваагддаг.\n",
      "77  нь 7-д хуваагддаг.\n",
      "84  нь 7-д хуваагддаг.\n",
      "91  нь 7-д хуваагддаг.\n",
      "98  нь 7-д хуваагддаг.\n"
     ]
    }
   ],
   "source": [
    "start_num = int(50)  \n",
    "end_num = int(100)\n",
    "cnt = start_num\n",
    "\n",
    "# check until end of the range is achieved\n",
    "while cnt <= end_num: \n",
    "    # if number divisible by 7 and 5\n",
    "    if cnt % 7 == 0 :\n",
    "        print(cnt, \" нь 7-д хуваагддаг.\")     \n",
    "    # increment counter\n",
    "    cnt += 1"
   ]
  },
  {
   "cell_type": "code",
   "execution_count": null,
   "id": "80388655-2dff-4a2c-a5a3-02d929d7865a",
   "metadata": {},
   "outputs": [],
   "source": [
    "# # 17. Тоог урдаас нь хойш, хойноос урагш бичихэд тэнцүү байх тоог хөрвөсөн тоо буюу “палиндром тоо” гэдэг. [100, 150] завсарт байх палиндром тоонуудыг хэвлэх программ зохио."
   ]
  },
  {
   "cell_type": "code",
   "execution_count": null,
   "id": "2c76fe36-7bfa-4c40-acc4-ca6e77fcce5a",
   "metadata": {},
   "outputs": [],
   "source": []
  },
  {
   "cell_type": "code",
   "execution_count": null,
   "id": "ce3a76d0-2430-4614-828e-5243d5b6942d",
   "metadata": {},
   "outputs": [],
   "source": [
    "# # 18. [100, 200] завсарт орших тоонуудаас 25-д хуваагдах тоонуудын хөрвөсөн тоог хэвлэх программ зохио."
   ]
  },
  {
   "cell_type": "code",
   "execution_count": null,
   "id": "23c66301-9cd6-4a5c-bbb4-e094e0952535",
   "metadata": {},
   "outputs": [],
   "source": []
  },
  {
   "cell_type": "code",
   "execution_count": null,
   "id": "2c2fd8eb-e76a-4da2-a701-43970fd75811",
   "metadata": {},
   "outputs": [],
   "source": [
    "# # 19. N бүхэл тоо өгөгджээ. 1-ээс N хүртэлх тэгш тоонуудыг өөрөөс нь 2 дахин бага тоон зэрэгт дэвшүүлж гарсан утгуудын нийлбэрийг олох программ зохио.\n"
   ]
  },
  {
   "cell_type": "code",
   "execution_count": null,
   "id": "e99f997d-0573-4f46-b3ff-b835ee104f01",
   "metadata": {},
   "outputs": [],
   "source": []
  },
  {
   "cell_type": "code",
   "execution_count": null,
   "id": "34ee2129-9477-4e0a-bb8c-2627efaae664",
   "metadata": {},
   "outputs": [],
   "source": [
    "# # 20. 1100110 ба 10101 тоонууд хооронд логик and, or, xor үйлдлүүд хийж зөв # хариуг 10 ба 2-тын тоогоор харуул;"
   ]
  },
  {
   "cell_type": "code",
   "execution_count": null,
   "id": "eb50c7ec-f65b-4869-a084-a68515f1ea40",
   "metadata": {},
   "outputs": [],
   "source": []
  },
  {
   "cell_type": "code",
   "execution_count": null,
   "id": "ca1e366a-2b7c-48b0-8b65-97086cd9cd39",
   "metadata": {},
   "outputs": [],
   "source": [
    "# # 21. 16 суурьтай системд өгсөн тоог 10 суурьтай тооллын системд хөрвүүлэх."
   ]
  },
  {
   "cell_type": "code",
   "execution_count": null,
   "id": "94282283-c91a-4fd8-925d-f8a542c49629",
   "metadata": {},
   "outputs": [],
   "source": []
  },
  {
   "cell_type": "code",
   "execution_count": null,
   "id": "1f1a4877-262a-4390-b116-139f4f858384",
   "metadata": {},
   "outputs": [],
   "source": [
    "# # 22. N бүхэл тоо өгөгджээ. 1-ээс N хүртэлх бүх сондгой тоогоос квадрат язгуурыг # бодож, гарсан утгуудын нийлбэрийг олох программ зохио.\n"
   ]
  },
  {
   "cell_type": "code",
   "execution_count": null,
   "id": "15198f3a-c69a-453b-a5e9-5e42766e3b78",
   "metadata": {},
   "outputs": [],
   "source": []
  },
  {
   "cell_type": "code",
   "execution_count": null,
   "id": "56959df1-1b0e-44ed-8cea-adac2f3d47ab",
   "metadata": {},
   "outputs": [],
   "source": [
    "# # 23. 1100110 ба 10101 тоонууд хооронд нэмэх, хасах, үржих үйлдлүүд хийж зөв хариуг 10 ба 2-тын тоогоор харуул."
   ]
  },
  {
   "cell_type": "code",
   "execution_count": null,
   "id": "dae494ce-a0e7-411c-97d5-d698f6d0b24f",
   "metadata": {},
   "outputs": [],
   "source": []
  },
  {
   "cell_type": "code",
   "execution_count": null,
   "id": "65cd1d02-f74a-46a1-bd8d-9a27620ec605",
   "metadata": {},
   "outputs": [],
   "source": [
    "# # 24. Өгсөн а тоог анхны тоо эсэхийг шалгах программ зохио.\n"
   ]
  },
  {
   "cell_type": "code",
   "execution_count": null,
   "id": "727e914d-ac76-49ce-bafe-3b4ce07dccb5",
   "metadata": {},
   "outputs": [],
   "source": []
  },
  {
   "cell_type": "code",
   "execution_count": null,
   "id": "b7ad1a82-3961-4d0e-9cce-b4aa002e65f0",
   "metadata": {},
   "outputs": [],
   "source": [
    "# # 25. [a, b] завсар дахь хөрвөсөн тооноосоо их байх тоонуудыг хэвлэ.\n"
   ]
  },
  {
   "cell_type": "code",
   "execution_count": null,
   "id": "e9ba200e-1237-4646-8b47-538b29c58870",
   "metadata": {},
   "outputs": [],
   "source": []
  },
  {
   "cell_type": "code",
   "execution_count": null,
   "id": "0c1162ef-d9b5-418e-a04c-9c8b2f224d7c",
   "metadata": {},
   "outputs": [],
   "source": [
    "# # 26. Өгсөн n хүртэлх тоонуудын факториалуудын нийлбэрийг олох программ зохио.\n"
   ]
  },
  {
   "cell_type": "code",
   "execution_count": null,
   "id": "01a41d28-f3e4-4105-a0d8-0033682bf896",
   "metadata": {},
   "outputs": [],
   "source": []
  },
  {
   "cell_type": "code",
   "execution_count": null,
   "id": "ac46d01b-fa01-40ef-bb3e-9212591b35f5",
   "metadata": {},
   "outputs": [],
   "source": [
    "# # 27. Өөрийнхөө цифрүүдийн нийлбэрт хуваагддаг 3 оронтой тоог “сайн тоо”гэдэг. Бүх сайн тоог хэвлэ. Мөн хэд байгааг тоолох программ зохио.\n"
   ]
  },
  {
   "cell_type": "code",
   "execution_count": null,
   "id": "07287f99-5145-46e8-ae64-32ed1250a58e",
   "metadata": {},
   "outputs": [],
   "source": []
  },
  {
   "cell_type": "code",
   "execution_count": null,
   "id": "211113db-1a0f-4742-bcce-e417ae54312e",
   "metadata": {},
   "outputs": [],
   "source": [
    "# # 28. Фибоначчийн эхний к ширхэг гишүүнийг хэвлэ (Фибоначчийн тоо нь дараах дарааллаас бүрдэнэ: 0, 1, 1, 2, 3, 5, 8, 13, 21, 34, 55, 89, 144, .... Тодорхойлолт ёсоор бол Фибоначчийн тооны эхний 2 тоо нь 0 болон 1 гэж өгөгдсөн ба түүнээс хойшхи Фибоначчийн тоонууд нь өмнөх 2 тооныхоо нийлбэртэй тэнцүү болно).\n"
   ]
  },
  {
   "cell_type": "code",
   "execution_count": null,
   "id": "ee893645-a008-4cc3-857c-041fa8e4d55c",
   "metadata": {},
   "outputs": [],
   "source": []
  },
  {
   "cell_type": "code",
   "execution_count": null,
   "id": "08b5b809-43f5-4cb3-8fe1-8910b3afddfd",
   "metadata": {},
   "outputs": [],
   "source": [
    "# # 29. 2 суурьтай системд өгсөн тоог 10 суурьтай тооллын системд хөрвүүл."
   ]
  },
  {
   "cell_type": "code",
   "execution_count": null,
   "id": "e0bf091a-977b-4194-9b49-e3fbd8926f67",
   "metadata": {},
   "outputs": [],
   "source": []
  },
  {
   "cell_type": "code",
   "execution_count": null,
   "id": "8970bb29-4d34-4fdc-b7c0-fd4658a9166d",
   "metadata": {},
   "outputs": [],
   "source": [
    "# # 30. 4 оронтой бүх палиндром тоог хэвлэж, нийт хэдэн тоо байгааг тоол.\n"
   ]
  },
  {
   "cell_type": "code",
   "execution_count": null,
   "id": "8a1fc667-9f27-4cc6-887e-7f7c68499c70",
   "metadata": {},
   "outputs": [],
   "source": []
  },
  {
   "cell_type": "code",
   "execution_count": null,
   "id": "41b71523-b1d2-41c1-878c-5bb9063e1c72",
   "metadata": {},
   "outputs": [],
   "source": []
  },
  {
   "cell_type": "code",
   "execution_count": null,
   "id": "bc9db909-8e54-41b8-9c27-acef70541f8a",
   "metadata": {},
   "outputs": [],
   "source": []
  },
  {
   "cell_type": "code",
   "execution_count": null,
   "id": "7882e5bb-507b-475b-b50c-57893df5476c",
   "metadata": {},
   "outputs": [],
   "source": []
  },
  {
   "cell_type": "code",
   "execution_count": null,
   "id": "eaa7f4de-3389-4e80-967f-13bfce3e922c",
   "metadata": {},
   "outputs": [],
   "source": []
  },
  {
   "cell_type": "code",
   "execution_count": null,
   "id": "0120c641-4ad8-4bd7-999f-45f6a1bbc6d3",
   "metadata": {},
   "outputs": [],
   "source": []
  },
  {
   "cell_type": "code",
   "execution_count": null,
   "id": "cdeddf39-9440-4d26-94c6-2e5622f2aa34",
   "metadata": {},
   "outputs": [],
   "source": []
  },
  {
   "cell_type": "code",
   "execution_count": null,
   "id": "b3ef0f99-3094-45a9-ae88-af047c0605ab",
   "metadata": {},
   "outputs": [],
   "source": []
  },
  {
   "cell_type": "code",
   "execution_count": null,
   "id": "f46ff39c-af4c-40b6-8038-e041d26db491",
   "metadata": {},
   "outputs": [],
   "source": []
  },
  {
   "cell_type": "code",
   "execution_count": null,
   "id": "bad981b4-8d94-4c06-8dd9-00cc490560c5",
   "metadata": {},
   "outputs": [],
   "source": []
  },
  {
   "cell_type": "code",
   "execution_count": null,
   "id": "efeca65c-27f8-49cb-9ec8-7c7dee20e750",
   "metadata": {},
   "outputs": [],
   "source": []
  }
 ],
 "metadata": {
  "kernelspec": {
   "display_name": "Python 3 (ipykernel)",
   "language": "python",
   "name": "python3"
  },
  "language_info": {
   "codemirror_mode": {
    "name": "ipython",
    "version": 3
   },
   "file_extension": ".py",
   "mimetype": "text/x-python",
   "name": "python",
   "nbconvert_exporter": "python",
   "pygments_lexer": "ipython3",
   "version": "3.9.13"
  }
 },
 "nbformat": 4,
 "nbformat_minor": 5
}
