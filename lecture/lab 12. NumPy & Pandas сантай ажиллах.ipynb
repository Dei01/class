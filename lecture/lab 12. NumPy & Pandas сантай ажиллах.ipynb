{
 "cells": [
  {
   "cell_type": "code",
   "execution_count": 5,
   "id": "941f076f-ced4-4fec-a7ed-057caced8579",
   "metadata": {},
   "outputs": [
    {
     "data": {
      "text/plain": [
       "numpy.ndarray"
      ]
     },
     "execution_count": 5,
     "metadata": {},
     "output_type": "execute_result"
    }
   ],
   "source": [
    "import numpy as np\n",
    "import pandas as pd\n",
    "data = np.array([1,2,3])\n",
    "data\n",
    "type(data)"
   ]
  },
  {
   "cell_type": "code",
   "execution_count": 7,
   "id": "f487a0f2-3029-40d6-ae9b-39f13941b797",
   "metadata": {},
   "outputs": [
    {
     "data": {
      "text/plain": [
       "dtype('int64')"
      ]
     },
     "execution_count": 7,
     "metadata": {},
     "output_type": "execute_result"
    }
   ],
   "source": [
    "data.dtype"
   ]
  },
  {
   "cell_type": "code",
   "execution_count": 8,
   "id": "24f5ec94-bfad-4ea8-94fe-8b2c6de7b48d",
   "metadata": {},
   "outputs": [
    {
     "data": {
      "text/plain": [
       "1"
      ]
     },
     "execution_count": 8,
     "metadata": {},
     "output_type": "execute_result"
    }
   ],
   "source": [
    "data.ndim"
   ]
  },
  {
   "cell_type": "code",
   "execution_count": 10,
   "id": "beaebdf0-417f-4ccd-9864-2866c1b417b8",
   "metadata": {},
   "outputs": [
    {
     "data": {
      "text/plain": [
       "3"
      ]
     },
     "execution_count": 10,
     "metadata": {},
     "output_type": "execute_result"
    }
   ],
   "source": [
    "data.size"
   ]
  },
  {
   "cell_type": "code",
   "execution_count": null,
   "id": "1eb413e4-1e85-4bfd-bd79-2dd2f372f7c6",
   "metadata": {},
   "outputs": [],
   "source": [
    "# ЛАБОРАТОРИЙН АЖИЛ No12 NUMPY САН"
   ]
  },
  {
   "cell_type": "code",
   "execution_count": null,
   "id": "bc18c575-fd96-4ac4-ae0a-43a2bd2a9990",
   "metadata": {},
   "outputs": [],
   "source": [
    "# Дасгал 12.1."
   ]
  },
  {
   "cell_type": "code",
   "execution_count": 11,
   "id": "6187e159-835b-4fa0-802c-f2ea2451ba9d",
   "metadata": {},
   "outputs": [
    {
     "data": {
      "text/plain": [
       "array([ 5., 10., 15., 20., 25., 30., 35., 40., 45., 50.])"
      ]
     },
     "execution_count": 11,
     "metadata": {},
     "output_type": "execute_result"
    }
   ],
   "source": [
    "import numpy as np\n",
    "a = np.arange(1, 21)\n",
    "a\n",
    "b = np.arange(5, 51, 5) # бүхэл тоон массив үүсгэнэ\n",
    "b.astype(np.float64) # бүхэл тоон массивыг бутархай тоонд хөрвүүлнэ b\n"
   ]
  },
  {
   "cell_type": "code",
   "execution_count": 12,
   "id": "6ea3b884-686b-4def-a07b-9ff564264fce",
   "metadata": {},
   "outputs": [],
   "source": [
    "# Дасгал 12.2. "
   ]
  },
  {
   "cell_type": "code",
   "execution_count": 13,
   "id": "6dd66350-8ca0-448e-8b00-2e3871fc849b",
   "metadata": {},
   "outputs": [
    {
     "name": "stdout",
     "output_type": "stream",
     "text": [
      "[ 6.  8. 10. 12.]\n",
      "[-4. -4. -4. -4.]\n",
      "[ 5. 12. 21. 32.]\n",
      "[0.2        0.33333333 0.42857143 0.5       ]\n",
      "[1. 2. 3. 4.]\n",
      "[1.0000e+00 6.4000e+01 2.1870e+03 6.5536e+04]\n"
     ]
    }
   ],
   "source": [
    "a = np.array([1, 2, 3, 4], float) \n",
    "b = np.array([5, 6, 7, 8], float) \n",
    "print(np.add(a, b)) # a + b \n",
    "print(np.subtract(a, b)) # a – b \n",
    "print(np.multiply(a, b)) # a * b \n",
    "print(np.divide(a, b)) # a / b \n",
    "print(np.mod(a, b)) # a % b \n",
    "print(np.power(a, b)) # a ** b"
   ]
  },
  {
   "cell_type": "code",
   "execution_count": null,
   "id": "4965cc6d-171b-47ba-ad80-ef2df358b5ab",
   "metadata": {},
   "outputs": [],
   "source": [
    "# Дасгал 12.3. "
   ]
  },
  {
   "cell_type": "code",
   "execution_count": 18,
   "id": "7cc7342c-414a-468c-b03d-4dd20cb8ec04",
   "metadata": {},
   "outputs": [
    {
     "data": {
      "text/plain": [
       "array([ 9,  7, -8,  4,  5,  1])"
      ]
     },
     "execution_count": 18,
     "metadata": {},
     "output_type": "execute_result"
    }
   ],
   "source": [
    "c = np.array([1, 5, 4, -8, 7, 9]) \n",
    "c[0], c[2], c[-1]\n",
    "c[1 : 3]\n",
    "c[2 : 5 : 2]\n",
    "c[: : -1]"
   ]
  },
  {
   "cell_type": "code",
   "execution_count": null,
   "id": "0660ef2e-fe76-404a-9580-3574a0c11984",
   "metadata": {},
   "outputs": [],
   "source": [
    "# Дасгал 12.4."
   ]
  },
  {
   "cell_type": "code",
   "execution_count": 20,
   "id": "f8ec8efb-7df1-4571-9397-4406a2b5a221",
   "metadata": {},
   "outputs": [
    {
     "data": {
      "text/plain": [
       "array([[10., 45., -8.],\n",
       "       [11.,  4., 56.]])"
      ]
     },
     "execution_count": 20,
     "metadata": {},
     "output_type": "execute_result"
    }
   ],
   "source": [
    "d = np.array([[10, 45, -8], [11, 4, 56]]) \n",
    "d.ndim\n",
    "d.shape\n",
    "d.size\n",
    "e = d.astype(np.float64) # бүхэл тоог бутархай болгоно \n",
    "e"
   ]
  },
  {
   "cell_type": "code",
   "execution_count": null,
   "id": "86efac94-161c-4117-ba98-701bf952efc5",
   "metadata": {},
   "outputs": [],
   "source": [
    "# Дасгал 12.5."
   ]
  },
  {
   "cell_type": "code",
   "execution_count": 21,
   "id": "a856b278-3bcb-4cf7-acad-eeb5a7820b65",
   "metadata": {},
   "outputs": [
    {
     "data": {
      "text/plain": [
       "array([[ 0,  1,  2],\n",
       "       [ 3,  4,  5],\n",
       "       [ 6,  7,  8],\n",
       "       [ 9, 10, 11],\n",
       "       [12, 13, 14]])"
      ]
     },
     "execution_count": 21,
     "metadata": {},
     "output_type": "execute_result"
    }
   ],
   "source": [
    "np.arange(0, 15).reshape(3, 5) # 3 мөр, 5 баганатай 2D массив\n",
    "np.arange(0, 15).reshape(5, 3) # 5 мөр, 3 баганатай 2D массив"
   ]
  },
  {
   "cell_type": "code",
   "execution_count": null,
   "id": "4310332d-ed01-47c7-9dc4-047ce98cf724",
   "metadata": {},
   "outputs": [],
   "source": [
    "# Дасгал 12.6."
   ]
  },
  {
   "cell_type": "code",
   "execution_count": 23,
   "id": "fcd5e56d-125f-4c44-b0bc-3bf1a075b84e",
   "metadata": {},
   "outputs": [
    {
     "name": "stdout",
     "output_type": "stream",
     "text": [
      "[[ 7  8]\n",
      " [31 36]]\n",
      "[-5 -5]\n"
     ]
    }
   ],
   "source": [
    "a = np.arange(4).reshape(2, 2) # 2 мөр, 2 баганатай 2D массив \n",
    "b = np.arange(5, 9).reshape(2, 2)\n",
    "print(np.dot(a, b)) # матрицаар үржүүл\n",
    "print(np.cross(a, b)) # матрицаар үржүүл"
   ]
  },
  {
   "cell_type": "code",
   "execution_count": null,
   "id": "499f0c9a-1937-4c20-9366-60f7be268652",
   "metadata": {},
   "outputs": [],
   "source": []
  }
 ],
 "metadata": {
  "kernelspec": {
   "display_name": "Python 3 (ipykernel)",
   "language": "python",
   "name": "python3"
  },
  "language_info": {
   "codemirror_mode": {
    "name": "ipython",
    "version": 3
   },
   "file_extension": ".py",
   "mimetype": "text/x-python",
   "name": "python",
   "nbconvert_exporter": "python",
   "pygments_lexer": "ipython3",
   "version": "3.9.13"
  }
 },
 "nbformat": 4,
 "nbformat_minor": 5
}
